{
 "cells": [
  {
   "cell_type": "code",
   "execution_count": 1,
   "metadata": {},
   "outputs": [
    {
     "name": "stdout",
     "output_type": "stream",
     "text": [
      "Requirement already satisfied: kagglehub in c:\\users\\fiu\\anaconda3\\envs\\aura\\lib\\site-packages (0.3.4)\n",
      "Requirement already satisfied: numpy==2.0.0 in c:\\users\\fiu\\anaconda3\\envs\\aura\\lib\\site-packages (2.0.0)\n",
      "Requirement already satisfied: rembg in c:\\users\\fiu\\anaconda3\\envs\\aura\\lib\\site-packages (2.0.59)\n",
      "Requirement already satisfied: pymatting in c:\\users\\fiu\\anaconda3\\envs\\aura\\lib\\site-packages (1.1.12)\n",
      "Requirement already satisfied: opencv-python in c:\\users\\fiu\\anaconda3\\envs\\aura\\lib\\site-packages (4.10.0.84)\n",
      "Requirement already satisfied: ipython in c:\\users\\fiu\\anaconda3\\envs\\aura\\lib\\site-packages (8.29.0)\n",
      "Requirement already satisfied: pillow in c:\\users\\fiu\\anaconda3\\envs\\aura\\lib\\site-packages (11.0.0)\n",
      "Requirement already satisfied: packaging in c:\\users\\fiu\\anaconda3\\envs\\aura\\lib\\site-packages (from kagglehub) (24.1)\n",
      "Requirement already satisfied: requests in c:\\users\\fiu\\anaconda3\\envs\\aura\\lib\\site-packages (from kagglehub) (2.32.3)\n",
      "Requirement already satisfied: tqdm in c:\\users\\fiu\\anaconda3\\envs\\aura\\lib\\site-packages (from kagglehub) (4.67.0)\n",
      "Requirement already satisfied: jsonschema in c:\\users\\fiu\\anaconda3\\envs\\aura\\lib\\site-packages (from rembg) (4.23.0)\n",
      "Requirement already satisfied: onnxruntime in c:\\users\\fiu\\anaconda3\\envs\\aura\\lib\\site-packages (from rembg) (1.20.0)\n",
      "Requirement already satisfied: opencv-python-headless in c:\\users\\fiu\\anaconda3\\envs\\aura\\lib\\site-packages (from rembg) (4.10.0.84)\n",
      "Requirement already satisfied: pooch in c:\\users\\fiu\\anaconda3\\envs\\aura\\lib\\site-packages (from rembg) (1.8.2)\n",
      "Requirement already satisfied: scikit-image in c:\\users\\fiu\\anaconda3\\envs\\aura\\lib\\site-packages (from rembg) (0.24.0)\n",
      "Requirement already satisfied: scipy in c:\\users\\fiu\\anaconda3\\envs\\aura\\lib\\site-packages (from rembg) (1.14.1)\n",
      "Requirement already satisfied: numba!=0.49.0 in c:\\users\\fiu\\anaconda3\\envs\\aura\\lib\\site-packages (from pymatting) (0.60.0)\n",
      "Requirement already satisfied: decorator in c:\\users\\fiu\\anaconda3\\envs\\aura\\lib\\site-packages (from ipython) (5.1.1)\n",
      "Requirement already satisfied: jedi>=0.16 in c:\\users\\fiu\\anaconda3\\envs\\aura\\lib\\site-packages (from ipython) (0.19.2)\n",
      "Requirement already satisfied: matplotlib-inline in c:\\users\\fiu\\anaconda3\\envs\\aura\\lib\\site-packages (from ipython) (0.1.7)\n",
      "Requirement already satisfied: prompt-toolkit<3.1.0,>=3.0.41 in c:\\users\\fiu\\anaconda3\\envs\\aura\\lib\\site-packages (from ipython) (3.0.48)\n",
      "Requirement already satisfied: pygments>=2.4.0 in c:\\users\\fiu\\anaconda3\\envs\\aura\\lib\\site-packages (from ipython) (2.18.0)\n",
      "Requirement already satisfied: stack-data in c:\\users\\fiu\\anaconda3\\envs\\aura\\lib\\site-packages (from ipython) (0.6.2)\n",
      "Requirement already satisfied: traitlets>=5.13.0 in c:\\users\\fiu\\anaconda3\\envs\\aura\\lib\\site-packages (from ipython) (5.14.3)\n",
      "Requirement already satisfied: exceptiongroup in c:\\users\\fiu\\anaconda3\\envs\\aura\\lib\\site-packages (from ipython) (1.2.2)\n",
      "Requirement already satisfied: typing-extensions>=4.6 in c:\\users\\fiu\\anaconda3\\envs\\aura\\lib\\site-packages (from ipython) (4.12.2)\n",
      "Requirement already satisfied: colorama in c:\\users\\fiu\\anaconda3\\envs\\aura\\lib\\site-packages (from ipython) (0.4.6)\n",
      "Requirement already satisfied: parso<0.9.0,>=0.8.4 in c:\\users\\fiu\\anaconda3\\envs\\aura\\lib\\site-packages (from jedi>=0.16->ipython) (0.8.4)\n",
      "Requirement already satisfied: llvmlite<0.44,>=0.43.0dev0 in c:\\users\\fiu\\anaconda3\\envs\\aura\\lib\\site-packages (from numba!=0.49.0->pymatting) (0.43.0)\n",
      "Requirement already satisfied: wcwidth in c:\\users\\fiu\\anaconda3\\envs\\aura\\lib\\site-packages (from prompt-toolkit<3.1.0,>=3.0.41->ipython) (0.2.13)\n",
      "Requirement already satisfied: attrs>=22.2.0 in c:\\users\\fiu\\anaconda3\\envs\\aura\\lib\\site-packages (from jsonschema->rembg) (24.2.0)\n",
      "Requirement already satisfied: jsonschema-specifications>=2023.03.6 in c:\\users\\fiu\\anaconda3\\envs\\aura\\lib\\site-packages (from jsonschema->rembg) (2024.10.1)\n",
      "Requirement already satisfied: referencing>=0.28.4 in c:\\users\\fiu\\anaconda3\\envs\\aura\\lib\\site-packages (from jsonschema->rembg) (0.35.1)\n",
      "Requirement already satisfied: rpds-py>=0.7.1 in c:\\users\\fiu\\anaconda3\\envs\\aura\\lib\\site-packages (from jsonschema->rembg) (0.21.0)\n",
      "Requirement already satisfied: coloredlogs in c:\\users\\fiu\\anaconda3\\envs\\aura\\lib\\site-packages (from onnxruntime->rembg) (15.0.1)\n",
      "Requirement already satisfied: flatbuffers in c:\\users\\fiu\\anaconda3\\envs\\aura\\lib\\site-packages (from onnxruntime->rembg) (24.3.25)\n",
      "Requirement already satisfied: protobuf in c:\\users\\fiu\\anaconda3\\envs\\aura\\lib\\site-packages (from onnxruntime->rembg) (5.28.3)\n",
      "Requirement already satisfied: sympy in c:\\users\\fiu\\anaconda3\\envs\\aura\\lib\\site-packages (from onnxruntime->rembg) (1.13.3)\n",
      "Requirement already satisfied: platformdirs>=2.5.0 in c:\\users\\fiu\\anaconda3\\envs\\aura\\lib\\site-packages (from pooch->rembg) (4.3.6)\n",
      "Requirement already satisfied: charset-normalizer<4,>=2 in c:\\users\\fiu\\anaconda3\\envs\\aura\\lib\\site-packages (from requests->kagglehub) (3.4.0)\n",
      "Requirement already satisfied: idna<4,>=2.5 in c:\\users\\fiu\\anaconda3\\envs\\aura\\lib\\site-packages (from requests->kagglehub) (3.10)\n",
      "Requirement already satisfied: urllib3<3,>=1.21.1 in c:\\users\\fiu\\anaconda3\\envs\\aura\\lib\\site-packages (from requests->kagglehub) (2.2.3)\n",
      "Requirement already satisfied: certifi>=2017.4.17 in c:\\users\\fiu\\anaconda3\\envs\\aura\\lib\\site-packages (from requests->kagglehub) (2024.8.30)\n",
      "Requirement already satisfied: networkx>=2.8 in c:\\users\\fiu\\anaconda3\\envs\\aura\\lib\\site-packages (from scikit-image->rembg) (3.4.2)\n",
      "Requirement already satisfied: imageio>=2.33 in c:\\users\\fiu\\anaconda3\\envs\\aura\\lib\\site-packages (from scikit-image->rembg) (2.36.0)\n",
      "Requirement already satisfied: tifffile>=2022.8.12 in c:\\users\\fiu\\anaconda3\\envs\\aura\\lib\\site-packages (from scikit-image->rembg) (2024.9.20)\n",
      "Requirement already satisfied: lazy-loader>=0.4 in c:\\users\\fiu\\anaconda3\\envs\\aura\\lib\\site-packages (from scikit-image->rembg) (0.4)\n",
      "Requirement already satisfied: executing>=1.2.0 in c:\\users\\fiu\\anaconda3\\envs\\aura\\lib\\site-packages (from stack-data->ipython) (2.1.0)\n",
      "Requirement already satisfied: asttokens>=2.1.0 in c:\\users\\fiu\\anaconda3\\envs\\aura\\lib\\site-packages (from stack-data->ipython) (2.4.1)\n",
      "Requirement already satisfied: pure-eval in c:\\users\\fiu\\anaconda3\\envs\\aura\\lib\\site-packages (from stack-data->ipython) (0.2.3)\n",
      "Requirement already satisfied: six>=1.12.0 in c:\\users\\fiu\\anaconda3\\envs\\aura\\lib\\site-packages (from asttokens>=2.1.0->stack-data->ipython) (1.16.0)\n",
      "Requirement already satisfied: humanfriendly>=9.1 in c:\\users\\fiu\\anaconda3\\envs\\aura\\lib\\site-packages (from coloredlogs->onnxruntime->rembg) (10.0)\n",
      "Requirement already satisfied: mpmath<1.4,>=1.1.0 in c:\\users\\fiu\\anaconda3\\envs\\aura\\lib\\site-packages (from sympy->onnxruntime->rembg) (1.3.0)\n",
      "Requirement already satisfied: pyreadline3 in c:\\users\\fiu\\anaconda3\\envs\\aura\\lib\\site-packages (from humanfriendly>=9.1->coloredlogs->onnxruntime->rembg) (3.5.4)\n",
      "Note: you may need to restart the kernel to use updated packages.\n"
     ]
    }
   ],
   "source": [
    "%pip install kagglehub numpy==2.0.0 rembg pymatting opencv-python ipython pillow"
   ]
  },
  {
   "cell_type": "code",
   "execution_count": 2,
   "metadata": {},
   "outputs": [
    {
     "name": "stderr",
     "output_type": "stream",
     "text": [
      "c:\\Users\\fiu\\anaconda3\\envs\\aura\\lib\\site-packages\\tqdm\\auto.py:21: TqdmWarning: IProgress not found. Please update jupyter and ipywidgets. See https://ipywidgets.readthedocs.io/en/stable/user_install.html\n",
      "  from .autonotebook import tqdm as notebook_tqdm\n"
     ]
    },
    {
     "data": {
      "text/plain": [
       "['C:\\\\Users\\\\fiu\\\\.cache\\\\kagglehub\\\\datasets\\\\jafarhussain786\\\\human-emotionshappy-faces\\\\versions\\\\1',\n",
       " 'C:\\\\Users\\\\fiu\\\\.cache\\\\kagglehub\\\\datasets\\\\jafarhussain786\\\\human-emotionssad-faces\\\\versions\\\\1',\n",
       " 'C:\\\\Users\\\\fiu\\\\.cache\\\\kagglehub\\\\datasets\\\\jafarhussain786\\\\human-emotionsangry-faces\\\\versions\\\\1',\n",
       " 'C:\\\\Users\\\\fiu\\\\.cache\\\\kagglehub\\\\datasets\\\\jafarhussain786\\\\human-emotionsfear-faces\\\\versions\\\\1',\n",
       " 'C:\\\\Users\\\\fiu\\\\.cache\\\\kagglehub\\\\datasets\\\\jafarhussain786\\\\human-emotionssuprise-faces\\\\versions\\\\1']"
      ]
     },
     "execution_count": 2,
     "metadata": {},
     "output_type": "execute_result"
    }
   ],
   "source": [
    "import kagglehub # we are using an api to import kagglehub's dataset\n",
    "\n",
    "paths = []\n",
    "paths.append(kagglehub.dataset_download(\"jafarhussain786/human-emotionshappy-faces\"))\n",
    "paths.append(kagglehub.dataset_download(\"jafarhussain786/human-emotionssad-faces\"))\n",
    "paths.append(kagglehub.dataset_download(\"jafarhussain786/human-emotionsangry-faces\"))\n",
    "paths.append(kagglehub.dataset_download(\"jafarhussain786/human-emotionsfear-faces\"))\n",
    "paths.append(kagglehub.dataset_download(\"jafarhussain786/human-emotionssuprise-faces\"))\n",
    "\n",
    "emotions = [\"happy\", \"sad\", \"angry\", \"fear\", \"surprise\"]\n",
    "paths\n"
   ]
  },
  {
   "cell_type": "markdown",
   "metadata": {},
   "source": [
    "Resizing first: Ensures that all subsequent operations work on a consistent image size.\n",
    "Setting the background to black next: Helps to clean up the image before grayscaling, making it more effective.\n",
    "Grayscaling last: Keeps it optional, allowing for flexibility based on your needs."
   ]
  },
  {
   "cell_type": "code",
   "execution_count": 3,
   "metadata": {},
   "outputs": [],
   "source": [
    "import cv2\n",
    "import numpy as np\n",
    "import rembg\n",
    "from PIL import Image as PILImage\n",
    "\n",
    "def resize_image(image, target_size=(224, 224)):\n",
    "    \"\"\"\n",
    "    Resize the image to the target size while maintaining aspect ratio.\n",
    "    Adds padding to ensure the output size is consistent.\n",
    "    \"\"\"\n",
    "    h, w = image.shape[:2]\n",
    "    scale = min(target_size[0] / h, target_size[1] / w)\n",
    "    new_w = int(w * scale)\n",
    "    new_h = int(h * scale)\n",
    "\n",
    "    resized_image = cv2.resize(image, (new_w, new_h))\n",
    "\n",
    "    # Add padding to make it the target size\n",
    "    top = (target_size[0] - new_h) // 2\n",
    "    left = (target_size[1] - new_w) // 2\n",
    "\n",
    "    # Create a black canvas and place the resized image on it\n",
    "    canvas = np.zeros((target_size[0], target_size[1], 3), dtype=np.uint8)\n",
    "    canvas[top:top+new_h, left:left+new_w] = resized_image\n",
    "\n",
    "    return canvas\n",
    "\n",
    "def remove_background(image):\n",
    "    \"\"\"\n",
    "    Remove the background using rembg and return an image with a black background.\n",
    "    \"\"\"\n",
    "    # Convert OpenCV image (BGR) to PIL image (RGB)\n",
    "    image_rgb = cv2.cvtColor(image, cv2.COLOR_BGR2RGB)\n",
    "    pil_image = PILImage.fromarray(image_rgb)\n",
    "\n",
    "    # Use rembg to remove the background\n",
    "    image_no_bg = rembg.remove(pil_image)\n",
    "\n",
    "    # Convert back to OpenCV image and replace transparent pixels with black\n",
    "    image_no_bg_cv = np.array(image_no_bg)\n",
    "    image_no_bg_cv = cv2.cvtColor(image_no_bg_cv, cv2.COLOR_RGB2BGR)\n",
    "\n",
    "    # Replace transparent areas with black\n",
    "    if image_no_bg_cv.shape[2] == 4:  # Check if alpha channel exists\n",
    "        alpha_channel = image_no_bg_cv[:, :, 3]\n",
    "        mask = alpha_channel == 0\n",
    "        image_no_bg_cv = image_no_bg_cv[:, :, :3]  # Remove alpha channel\n",
    "        image_no_bg_cv[mask] = [0, 0, 0]  # Set background to black\n",
    "\n",
    "    return image_no_bg_cv\n",
    "\n",
    "def preprocess_image(image, grayscale=True, target_size=(224, 224)):\n",
    "    \"\"\"\n",
    "    Preprocess the image by resizing, removing the background, and converting to grayscale.\n",
    "    \"\"\"\n",
    "    # Step 1: Resize the image\n",
    "    image = resize_image(image, target_size)\n",
    "\n",
    "    # Step 2: Remove the background and replace it with black\n",
    "    image = remove_background(image)\n",
    "\n",
    "    # Step 3: Convert to grayscale if specified\n",
    "    if grayscale:\n",
    "        image = cv2.cvtColor(image, cv2.COLOR_BGR2GRAY)\n",
    "\n",
    "    return image\n",
    "\n",
    "# Display and save functions remain the same as before\n",
    "\n"
   ]
  },
  {
   "cell_type": "code",
   "execution_count": 4,
   "metadata": {},
   "outputs": [],
   "source": [
    "import os\n",
    "from IPython.display import display, Image\n",
    "from PIL import Image as PILImage\n",
    "import io\n",
    "\n",
    "image_files = []\n",
    "for path in paths:\n",
    "    for f in os.listdir(path):\n",
    "        if f.endswith(('.png', '.jpg', '.jpeg')):\n",
    "            image_files.append(os.path.join(path, f))\n",
    "\n",
    "DISPLAY_COUNT = len(image_files)\n",
    "image_files = np.array(image_files)"
   ]
  },
  {
   "cell_type": "code",
   "execution_count": 5,
   "metadata": {},
   "outputs": [
    {
     "name": "stdout",
     "output_type": "stream",
     "text": [
      "C:\\Users\\fiu\\.cache\\kagglehub\\datasets\\jafarhussain786\\human-emotionssad-faces\\versions\\1\n"
     ]
    }
   ],
   "source": [
    "def show_images(path, num_images=1):\n",
    "    print(path)\n",
    "    rand_array = np.random.randint(0, len(image_files), num_images)  # random.ra\n",
    "    for i, image_path in enumerate(image_files[rand_array]):\n",
    "        print(f\"Using image {i+1} for testing: {image_path}\")\n",
    "\n",
    "        image = cv2.imread(image_path)\n",
    "\n",
    "        original_image_rgb = cv2.cvtColor(image, cv2.COLOR_BGR2RGB)\n",
    "        processed_image = preprocess_image(image)\n",
    "\n",
    "        processed_image_rgb = cv2.cvtColor(processed_image, cv2.COLOR_BGR2RGB)\n",
    "\n",
    "        original_img_pil = PILImage.fromarray(original_image_rgb)\n",
    "        buf_original = io.BytesIO()\n",
    "        original_img_pil.save(buf_original, format='JPEG')\n",
    "        buf_original.seek(0)\n",
    "\n",
    "        processed_img_pil = PILImage.fromarray(processed_image_rgb)\n",
    "        buf_processed = io.BytesIO()\n",
    "        processed_img_pil.save(buf_processed, format='JPEG')\n",
    "        buf_processed.seek(0)\n",
    "\n",
    "        # print(f\"Original Image {i+1}:\")\n",
    "        # display(Image(data=buf_original.getvalue()))\n",
    "\n",
    "        # print(f\"Image {i+1} after ETL:\")\n",
    "        # display(Image(data=buf_processed.getvalue()))\n",
    "\n",
    "show_images(paths[1], 0)"
   ]
  },
  {
   "cell_type": "code",
   "execution_count": null,
   "metadata": {},
   "outputs": [],
   "source": [
    "output_dir = \"processed_images\"\n",
    "os.makedirs(output_dir, exist_ok=True)\n",
    "\n",
    "def save_processed_images(path, num_images=1):\n",
    "    for i, image_path in enumerate(image_files[:num_images]):\n",
    "        print(f\"Processing image {i+1}: {image_path}\")\n",
    "\n",
    "        image = cv2.imread(image_path)\n",
    "\n",
    "        processed_image = preprocess_image(image)\n",
    "\n",
    "        processed_image_rgb = cv2.cvtColor(processed_image, cv2.COLOR_BGR2RGB)\n",
    "\n",
    "        output_file_path = None\n",
    "        for emotion in emotions:\n",
    "            if emotion in image_path:\n",
    "                output_file_path = os.path.join(output_dir, f\"{emotion}_{i+1}.jpg\")\n",
    "\n",
    "        PILImage.fromarray(processed_image_rgb).save(output_file_path)\n",
    "\n",
    "        print(f\"Processed image saved to: {output_file_path}\")\n",
    "\n",
    "save_processed_images(paths[0], len(image_files))"
   ]
  }
 ],
 "metadata": {
  "kernelspec": {
   "display_name": "aura",
   "language": "python",
   "name": "python3"
  },
  "language_info": {
   "codemirror_mode": {
    "name": "ipython",
    "version": 3
   },
   "file_extension": ".py",
   "mimetype": "text/x-python",
   "name": "python",
   "nbconvert_exporter": "python",
   "pygments_lexer": "ipython3",
   "version": "3.10.15"
  }
 },
 "nbformat": 4,
 "nbformat_minor": 2
}
